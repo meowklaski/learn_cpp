{
 "cells": [
  {
   "cell_type": "markdown",
   "metadata": {},
   "source": [
    "# Comparing Float Values"
   ]
  },
  {
   "cell_type": "code",
   "execution_count": 2,
   "metadata": {},
   "outputs": [],
   "source": [
    "#include <cmath> // for fabs()\n",
    "// return true if the difference between a and b is less than absEpsilon, or within relEpsilon percent of the larger of a and b\n",
    "bool approximatelyEqualAbsRel(double a, double b, double absEpsilon, double relEpsilon)\n",
    "{\n",
    "    // Check if the numbers are really close -- needed when comparing numbers near zero.\n",
    "    double diff = fabs(a - b);\n",
    "    if (diff <= absEpsilon)\n",
    "        return true;\n",
    " \n",
    "    // Otherwise fall back to Knuth's algorithm\n",
    "    return diff <= ( (fabs(a) < fabs(b) ? fabs(b) : fabs(a)) * relEpsilon);\n",
    "}"
   ]
  },
  {
   "cell_type": "markdown",
   "metadata": {},
   "source": [
    "# Bitwise Operators\n",
    "\n",
    "Operator|\tSymbol|\tForm|\tOperation\n",
    "---|---|---|---\n",
    "left shift|\t<<|\tx << y|\tall bits in x shifted left y bits\n",
    "right shift|\t>>|\tx >> y|\tall bits in x shifted right y bits\n",
    "bitwise NOT|\t~|\t~x|\tall bits in x flipped\n",
    "bitwise AND|\t&|\tx & y|\teach bit in x AND each bit in y\n",
    "bitwise OR|\t &#124; |\tx &#124; y|\teach bit in x OR each bit in y\n",
    "bitwise XOR|\t^|\tx ^ y|\teach bit in x XOR each bit in y\n"
   ]
  },
  {
   "cell_type": "code",
   "execution_count": 1,
   "metadata": {},
   "outputs": [
    {
     "name": "stdout",
     "output_type": "stream",
     "text": [
      "(unsigned int) 8\n"
     ]
    }
   ],
   "source": [
    "uint x{4}; \n",
    "x << 1  // 0000 0010 -> 0000 0100"
   ]
  },
  {
   "cell_type": "code",
   "execution_count": 2,
   "metadata": {},
   "outputs": [
    {
     "name": "stdout",
     "output_type": "stream",
     "text": [
      "(unsigned int) 2\n"
     ]
    }
   ],
   "source": [
    "uint y{4};\n",
    "y >>= 1;  // 0000 0010 -> y = 0000 0001\n",
    "y"
   ]
  },
  {
   "cell_type": "code",
   "execution_count": 3,
   "metadata": {},
   "outputs": [
    {
     "name": "stdout",
     "output_type": "stream",
     "text": [
      "(int) -5\n"
     ]
    }
   ],
   "source": [
    "~4"
   ]
  },
  {
   "cell_type": "markdown",
   "metadata": {},
   "source": [
    "# Bit flags & Masks\n",
    "Instead of using a blooean-type variable, which uses 8 bits to discern only 1 byte of information, you can use the bits in a byte to signal 8 independent boolean values, each of which is called a **bit flag**.\n",
    "\n",
    "C++14 binary literals are nice:"
   ]
  },
  {
   "cell_type": "code",
   "execution_count": 4,
   "metadata": {},
   "outputs": [],
   "source": [
    "// Define 8 separate bit flags (these can represent whatever you want)\n",
    "const unsigned char option1 = 0b0000'0001;\n",
    "const unsigned char option2 = 0b0000'0010;\n",
    "const unsigned char option3 = 0b0000'0100;\n",
    "const unsigned char option4 = 0b0000'1000;\n",
    "const unsigned char option5 = 0b0001'0000;\n",
    "const unsigned char option6 = 0b0010'0000;\n",
    "const unsigned char option7 = 0b0100'0000;\n",
    "const unsigned char option8 = 0b1000'0000;"
   ]
  },
  {
   "cell_type": "markdown",
   "metadata": {},
   "source": [
    "Methods for defining bit flags in earlier versions\n",
    "\n",
    "via bit-shifting:\n",
    "\n",
    "```c++\n",
    "// Define 8 separate bit flags (these can represent whatever you want)\n",
    "const unsigned char option1 = 1 << 0; // 0000 0001 \n",
    "const unsigned char option2 = 1 << 1; // 0000 0010\n",
    "const unsigned char option3 = 1 << 2; // 0000 0100\n",
    "const unsigned char option4 = 1 << 3; // 0000 1000\n",
    "const unsigned char option5 = 1 << 4; // 0001 0000\n",
    "const unsigned char option6 = 1 << 5; // 0010 0000\n",
    "const unsigned char option7 = 1 << 6; // 0100 0000\n",
    "const unsigned char option8 = 1 << 7; // 1000 0000\n",
    "```\n",
    "\n",
    "using hex characters:\n",
    "```c++\n",
    "// Define 8 separate bit flags (these can represent whatever you want)\n",
    "const unsigned char option1 = 0x1; // hex for 0000 0001 \n",
    "const unsigned char option2 = 0x2; // hex for 0000 0010\n",
    "const unsigned char option3 = 0x4; // hex for 0000 0100\n",
    "const unsigned char option4 = 0x8; // hex for 0000 1000\n",
    "const unsigned char option5 = 0x10; // hex for 0001 0000\n",
    "const unsigned char option6 = 0x20; // hex for 0010 0000\n",
    "const unsigned char option7 = 0x40; // hex for 0100 0000\n",
    "const unsigned char option8 = 0x80; // hex for 1000 0000\n",
    "```"
   ]
  },
  {
   "cell_type": "markdown",
   "metadata": {},
   "source": [
    "Using bit flags to manipulate bits\n",
    "\n",
    "Now that we’ve defined a set of bit flags, we can use them to check the value of individual bits, or turn bits on and off.\n",
    "\n",
    "```c++\n",
    "// We use a byte-size value to hold our options\n",
    "// Each bit in myflags corresponds to one of the options defined above\n",
    "unsigned char myflags = 0; // all options turned off to start\n",
    "```\n",
    "To query a bit state, we use bitwise AND:\n",
    "\n",
    "```c++\n",
    "if (myflags & option4) ... // if option4 is set, do something\n",
    "if !(myflags & option5) ... // if option5 is not set, do something\n",
    "```\n",
    "To set a bit (turn on), we use bitwise OR:\n",
    "\n",
    "```c++\n",
    "myflags |= option4; // turn option 4 on.\n",
    "myflags |= (option4 | option5); // turn options 4 and 5 on.\n",
    "```\n",
    "To clear a bit (turn off), we use bitwise AND with an inverse bit pattern:\n",
    "\n",
    "```c++\n",
    "myflags &= ~option4; // turn option 4 off\n",
    "myflags &= ~(option4 | option5); // turn options 4 and 5 off\n",
    "```\n",
    "To toggle a bit state, we use bitwise XOR:\n",
    "\n",
    "```c++\n",
    "myflags ^= option4; // flip option4 from on to off, or vice versa\n",
    "myflags ^= (option4 | option5); // flip options 4 and 5\n",
    "```\n",
    "\n",
    "### Using std::bitset"
   ]
  },
  {
   "cell_type": "markdown",
   "metadata": {},
   "source": [
    "std::bitset provides 4 key functions:\n",
    "\n",
    " - test() allows us to query whether a bit is a 0 or 1\n",
    " - set() allows us to turn a bit on (this will do nothing if the bit is already on)\n",
    " - reset() allows us to turn a bit off (this will do nothing if the bit is already off)\n",
    " - flip() allows us to flip a bit from a 0 to a 1 or vice versa\n",
    "\n",
    "Each of these functions takes a bit-position parameter indicating "
   ]
  },
  {
   "cell_type": "code",
   "execution_count": 1,
   "metadata": {},
   "outputs": [
    {
     "name": "stdout",
     "output_type": "stream",
     "text": [
      "Bit 4 has value: 1\n",
      "Bit 5 has value: 0\n",
      "All the bits: 00010010\n"
     ]
    }
   ],
   "source": [
    "#include <bitset>\n",
    "#include <iostream>\n",
    "\n",
    "const int option1 = 0;\n",
    "const int option2 = 1;\n",
    "const int option3 = 2;\n",
    "const int option4 = 3;\n",
    "const int option5 = 4;\n",
    "const int option6 = 5;\n",
    "const int option7 = 6;\n",
    "const int option8 = 7;\n",
    "\n",
    "std::bitset<8> bits(0x2); // we need 8 bits, start with bit pattern 0000 0010\n",
    "bits.set(option5); // set bit 4 to 1 (now we have 0001 0010)\n",
    "bits.flip(option6); // flip bit 5 (now we have 0011 0010)\n",
    "bits.reset(option6); // set bit 5 back to 0 (now we have 0001 0010)\n",
    "\n",
    "std::cout << \"Bit 4 has value: \" << bits.test(option5) << '\\n';\n",
    "std::cout << \"Bit 5 has value: \" << bits.test(option6) << '\\n';\n",
    "std::cout << \"All the bits: \" << bits << '\\n';"
   ]
  },
  {
   "cell_type": "markdown",
   "metadata": {},
   "source": [
    "# Ch.3 Quiz"
   ]
  },
  {
   "cell_type": "code",
   "execution_count": null,
   "metadata": {},
   "outputs": [],
   "source": []
  }
 ],
 "metadata": {
  "kernelspec": {
   "display_name": "xeus C++14",
   "language": "",
   "name": "xeus-cling-cpp14"
  },
  "language_info": {
   "codemirror_mode": "text/x-c++src",
   "file_extension": ".cpp",
   "mimetype": "text/x-c++src",
   "name": "c++",
   "version": ""
  }
 },
 "nbformat": 4,
 "nbformat_minor": 2
}
