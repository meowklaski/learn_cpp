{
 "cells": [
  {
   "cell_type": "markdown",
   "metadata": {},
   "source": [
    "# Block statements"
   ]
  },
  {
   "cell_type": "code",
   "execution_count": 4,
   "metadata": {},
   "outputs": [],
   "source": [
    "int test1()\n",
    "{// I'm in a block\n",
    "    int x{4};\n",
    "    {\n",
    "        // I'm in a block, in a block\n",
    "        int x{10};\n",
    "        /* no variable conflict here, because `x` can be \"shadowed\"\n",
    "           within a block. This `x` falls out of scope upon leaving\n",
    "           the block\n",
    "        */\n",
    "    }\n",
    "    return x;  // x == 4\n",
    "}"
   ]
  },
  {
   "cell_type": "markdown",
   "metadata": {},
   "source": [
    "# Global Scope\n",
    "\n",
    "Variables declared outside of a block are called **global variables**. Global variables have **static duration**, which means they are created when the program starts and are destroyed when it ends. Global variables have **file scope** (also informally called “global scope” or “global namespace scope”), which means they are visible until the end of the file in which they are declared."
   ]
  },
  {
   "cell_type": "code",
   "execution_count": 7,
   "metadata": {},
   "outputs": [],
   "source": [
    "int global_var{-11};"
   ]
  },
  {
   "cell_type": "code",
   "execution_count": 8,
   "metadata": {},
   "outputs": [],
   "source": [
    "int test2()\n",
    "{\n",
    "    return global_var;\n",
    "}"
   ]
  },
  {
   "cell_type": "code",
   "execution_count": 9,
   "metadata": {},
   "outputs": [
    {
     "name": "stdout",
     "output_type": "stream",
     "text": [
      "(int) -11\n"
     ]
    }
   ],
   "source": [
    "test2()"
   ]
  },
  {
   "cell_type": "markdown",
   "metadata": {},
   "source": [
    "# Internal and external linkage via the static and extern keywords\n",
    "\n",
    "A variable with no linkage can only be referred to from the limited scope it exists in. Normal local variables are an example of variables with no linkage. Two local variables with the same name but defined in different functions have no linkage -- each will be considered an independent variable.\n",
    "\n",
    "A variable with **internal linkage** is called an internal variable (or static variable). Variables with internal linkage can be used anywhere within the file they are defined in, but can not be referenced outside the file they exist in.\n",
    "\n",
    "A variable with **external linkage** is called an external variable. Variables with external linkage can be used both in the file they are defined in, as well as in other files.\n",
    ">By default:\n",
    " - non-const variables declared outside of a block are assumed to be external: `int x{2};`\n",
    " - const variables declared outside of a block are assumed to be internal: `const int y{3};`\n",
    "\n",
    "In order to use an external global variable that has been declared in another file, you must use a variable forward declaration. For variables, creating a forward declaration is done via the **extern** keyword (with no initialization value).\n",
    "\n",
    "To avoid redefining global constants each time they are included in a different file, define them as external variables and then utilize a forward declaration in a header file:\n",
    "\n",
    "constants.cpp:\n",
    "\n",
    "```c++\n",
    "namespace Constants\n",
    "{\n",
    "    // actual global variables\n",
    "    extern const double pi(3.14159);\n",
    "    extern const double avogadro(6.0221413e23);\n",
    "    extern const double my_gravity(9.2); // m/s^2 -- gravity is light on this planet\n",
    "}\n",
    "```\n",
    "\n",
    "constants.h:\n",
    "\n",
    "```c++\n",
    "#ifndef CONSTANTS_H\n",
    "#define CONSTANTS_H\n",
    " \n",
    "namespace Constants\n",
    "{\n",
    "    // forward declarations only\n",
    "    extern const double pi;\n",
    "    extern const double avogadro;\n",
    "    extern const double my_gravity;\n",
    "}\n",
    " \n",
    "#endif\n",
    "```\n",
    "\n",
    "Use in the code file stays the same:\n",
    "\n",
    "```c++\n",
    "#include \"constants.h\"\n",
    "double circumference = 2 * radius * Constants::pi;\n",
    "```\n",
    "\n",
    "Here’s a summary chart of the use of the extern and static keywords for non-const and const variable use cases:\n",
    "\n",
    "```c++\n",
    "// Uninitialized definition:\n",
    "int g_x;        // defines uninitialized global variable (external linkage)\n",
    "static int g_x; // defines uninitialized static variable (internal linkage)\n",
    "const int g_x;  // not allowed: const variables must be initialized\n",
    " \n",
    "// Forward declaration via extern keyword:\n",
    "extern int g_z;       // forward declaration for global variable defined elsewhere\n",
    "extern const int g_z; // forward declaration for const global variable defined elsewhere\n",
    " \n",
    "// Initialized definition:\n",
    "int g_y(1);        // defines initialized global variable (external linkage)\n",
    "static int g_y(1); // defines initialized static variable (internal linkage)\n",
    "const int g_y(1);  // defines initialized static variable (internal linkage)\n",
    " \n",
    "// Initialized definition w/extern keyword:\n",
    "extern int g_w(1);       // defines initialized global variable (external linkage, extern keyword is redundant in this case)\n",
    "extern const int g_w(1); // defines initialized const global variable (external linkage)\n",
    "```"
   ]
  },
  {
   "cell_type": "markdown",
   "metadata": {},
   "source": [
    "# Static Duration Variables\n",
    "Using the static keyword on local variables changes them from automatic duration to static duration (also called fixed duration). A **static duration variable** (also called a “static variable”) is one that retains its value even after the scope in which it has been created has been exited! Static duration variables are only created (and initialized) once, and then they are persisted throughout the life of the program."
   ]
  },
  {
   "cell_type": "code",
   "execution_count": 1,
   "metadata": {},
   "outputs": [],
   "source": [
    "#include <iostream>\n",
    " \n",
    "void incrementAndPrint()\n",
    "{\n",
    "    static int s_value = 1; // static duration via static keyword.  This line is only executed once.\n",
    "    ++s_value;\n",
    "    std::cout << s_value << std::endl;\n",
    "} // s_value is not destroyed here, but becomes inaccessible\n"
   ]
  },
  {
   "cell_type": "code",
   "execution_count": 2,
   "metadata": {},
   "outputs": [
    {
     "name": "stdout",
     "output_type": "stream",
     "text": [
      "2\n",
      "3\n",
      "4\n"
     ]
    }
   ],
   "source": [
    "incrementAndPrint();\n",
    "incrementAndPrint();\n",
    "incrementAndPrint()"
   ]
  },
  {
   "cell_type": "markdown",
   "metadata": {},
   "source": [
    "- Using `static` with a global variable affects its linkage (making it internally linked)\n",
    "- Using `static` with a local variable affects its duration (giving it static duration)"
   ]
  },
  {
   "cell_type": "markdown",
   "metadata": {},
   "source": [
    "# Summary\n",
    "\n",
    "### Variable scope, duration, and linkage summary\n",
    "\n",
    "Type  |\tExample |\tScope  |\tDuration  |\tLinkage\t| Notes\n",
    "---|---\n",
    "Local variable |\tint x; |\tBlock scope |\tAutomatic duration |\tNo linkage\t\n",
    "Static local variable |\tstatic int s_x; |\tBlock scope |\tStatic duration |\tNo linkage\t\n",
    "Dynamic variable |\tint *x = new int; |\tBlock scope |\tDynamic duration |\tNo linkage\t\n",
    "Function parameter |\tvoid foo(int x) |\tBlock scope |\tAutomatic duration |\tNo linkage\t\n",
    "External non-const global variable |\tint g_x; |\tFile scope |\tStatic duration |\tExternal linkage |\tInitialized or uninitialized\n",
    "Internal non-const global variable |\tstatic int g_x; |\tFile scope |\tStatic duration |\tInternal linkage |\tInitialized or uninitialized\n",
    "Internal const global variable |\tconst int g_x(1); |\tFile scope |\tStatic duration |\tInternal linkage |\tMust be initialized\n",
    "External const global variable |\textern const int g_x(1); |\tFile scope |\tStatic duration |\tExternal linkage |\tMust be initialized"
   ]
  },
  {
   "cell_type": "markdown",
   "metadata": {},
   "source": [
    "### Forward declaration summary\n",
    "\n",
    "Type |\tExample |\tNotes\n",
    "---|---\n",
    "Function forward declaration |\tvoid foo(int x); |\tPrototype only, no function body\n",
    "Non-const global variable forward declaration |\textern int g_x; |\tMust be uninitialized\n",
    "Const global variable forward declaration |\textern const int g_x; |\tMust be uninitialized"
   ]
  },
  {
   "cell_type": "markdown",
   "metadata": {},
   "source": [
    "# Namespaces \n",
    "\n",
    "Pretty straight-forward\n",
    "```c++\n",
    "\n",
    "namespace Foo\n",
    "{\n",
    "    // This doSomething() belongs to namespace Foo\n",
    "    int doSomething(int x, int y)\n",
    "    {\n",
    "        return x + y;\n",
    "    }\n",
    "    \n",
    "    namespace Zoo\n",
    "    {\n",
    "    // This doSomething() belongs to namespace Foo::Zoo\n",
    "    int doSomething(int x, int y)\n",
    "    {\n",
    "        return x * y;\n",
    "    }\n",
    "    }\n",
    "    \n",
    "}\n",
    "\n",
    "namespace Goo\n",
    "{\n",
    "    // This doSomething() belongs to namespace Foo\n",
    "    int doSomething(int x, int y)\n",
    "    {\n",
    "        return x - y;\n",
    "    }\n",
    "}\n",
    "\n",
    "\n",
    "int main(void)\n",
    "{\n",
    "    std::cout << Foo::doSomething(4, 3) << '\\n'; \\\\ 4 + 3\n",
    "    std::cout << Goo::doSomething(4, 3) << '\\n'; \\\\ 4 - 3\n",
    "    std::cout << Foo::Zoo::doSomething(4, 3) << '\\n'; \\\\ 4 * 3\n",
    "    return 0;\n",
    "}\n",
    "```"
   ]
  },
  {
   "cell_type": "markdown",
   "metadata": {},
   "source": [
    "# The `using` Statement\n",
    "- `using` as a declaration: `using std::cout` -> `from std import cout` (Python)\n",
    "- `using` as a directive: `using std` -> `from std import *` (Python)\n",
    "\n",
    "This respects the scoping of blocks:\n",
    "```c++\n",
    "int main()\n",
    "{\n",
    "    {\n",
    "        using namespace Foo;\n",
    "        // calls to Foo:: stuff here\n",
    "    } // using namespace Foo expires\n",
    " \n",
    "    {\n",
    "        using namespace Goo;\n",
    "        // calls to Goo:: stuff here\n",
    "    } // using namespace Goo expires\n",
    " \n",
    "    return 0;\n",
    "}\n",
    "```"
   ]
  },
  {
   "cell_type": "markdown",
   "metadata": {},
   "source": [
    "# Implicit Type Coercion \n",
    "\n",
    "### Coericion Hierarchy\n",
    "\n",
    "- long double (highest)\n",
    "- double\n",
    "- float\n",
    "- unsigned long long\n",
    "- long long\n",
    "- unsigned long\n",
    "- long\n",
    "- unsigned int\n",
    "- int (lowest)"
   ]
  },
  {
   "cell_type": "markdown",
   "metadata": {},
   "source": [
    "# Explicit Type Coercion\n",
    "### C-style casts (avoid this)\n",
    "```c++\n",
    "int i1 = 10;\n",
    "int i2 = 4;\n",
    "float f = (float)i1 / i2;\n",
    "```\n",
    "\n",
    "### static casts\n",
    "```c++\n",
    "int i1 = 10;\n",
    "int i2 = 4;\n",
    "float f = static_cast<float>(i1) / i2;\n",
    "```"
   ]
  },
  {
   "cell_type": "markdown",
   "metadata": {},
   "source": [
    "# Enumerated Types"
   ]
  },
  {
   "cell_type": "code",
   "execution_count": 1,
   "metadata": {},
   "outputs": [],
   "source": [
    "enum Color\n",
    "{\n",
    "    COLOR_BLACK, // assigned 0\n",
    "    COLOR_RED, // assigned 1\n",
    "    COLOR_BLUE, // assigned 2\n",
    "    COLOR_GREEN, // assigned 3\n",
    "    COLOR_WHITE, // assigned 4\n",
    "    COLOR_CYAN, // assigned 5\n",
    "    COLOR_YELLOW, // assigned 6\n",
    "    COLOR_MAGENTA // assigned 7\n",
    "};\n",
    " \n",
    "Color paint{COLOR_WHITE};"
   ]
  },
  {
   "cell_type": "code",
   "execution_count": 2,
   "metadata": {},
   "outputs": [
    {
     "name": "stdout",
     "output_type": "stream",
     "text": [
      "(Color) (Color::COLOR_WHITE) : (unsigned int) 4\n"
     ]
    }
   ],
   "source": [
    "paint"
   ]
  },
  {
   "cell_type": "code",
   "execution_count": 12,
   "metadata": {},
   "outputs": [
    {
     "name": "stdout",
     "output_type": "stream",
     "text": [
      "(bool) true\n"
     ]
    }
   ],
   "source": [
    "COLOR_WHITE < COLOR_YELLOW"
   ]
  },
  {
   "cell_type": "markdown",
   "metadata": {},
   "source": [
    "## Enum Classes (C++ 11)\n",
    "Using `enum class` the enumerator is not placed in the same scope as the enumeration itself. Instead, you access an enumerator using `::`, in the same way as specifying a namespace.\n",
    "\n",
    "Nor will the compiler compare enumerators from **different** enumerations by falling back to their enum-value. Instead, you must cast the enumerator as an int."
   ]
  },
  {
   "cell_type": "code",
   "execution_count": 1,
   "metadata": {},
   "outputs": [],
   "source": [
    "// Define the enumeration `Animal` with the enumerators MOO & MEOW\n",
    "enum class Animal\n",
    "{\n",
    "    MOO,\n",
    "    MEOW\n",
    "}"
   ]
  },
  {
   "cell_type": "code",
   "execution_count": 3,
   "metadata": {},
   "outputs": [
    {
     "name": "stdout",
     "output_type": "stream",
     "text": [
      "(Animal) (Animal::MEOW) : (int) 1\n"
     ]
    }
   ],
   "source": [
    "Animal moo{Animal::MOO};\n",
    "Animal meow{Animal::MEOW}"
   ]
  },
  {
   "cell_type": "code",
   "execution_count": 4,
   "metadata": {},
   "outputs": [
    {
     "name": "stdout",
     "output_type": "stream",
     "text": [
      "(bool) true\n"
     ]
    }
   ],
   "source": [
    "moo < meow"
   ]
  },
  {
   "cell_type": "code",
   "execution_count": 5,
   "metadata": {},
   "outputs": [
    {
     "name": "stdout",
     "output_type": "stream",
     "text": [
      "(int) 0\n"
     ]
    }
   ],
   "source": [
    "static_cast<int>(moo)"
   ]
  },
  {
   "cell_type": "markdown",
   "metadata": {},
   "source": [
    "## Typedefs & type aliases\n",
    "**Typedefs** allow users to define an alias for a data type by using the keyword `typedef`."
   ]
  },
  {
   "cell_type": "code",
   "execution_count": 6,
   "metadata": {},
   "outputs": [],
   "source": [
    "typedef double distance_t  // `distance_t` is now an alias for the type `double`"
   ]
  },
  {
   "cell_type": "markdown",
   "metadata": {},
   "source": [
    "Typedefs can be used for cross-platform programs, where `short` may be a 16-bit int on one platform, but `int` is 16-bit on another. This is how fixed width integers (like `int8_t`) are defined in C++11!"
   ]
  },
  {
   "cell_type": "markdown",
   "metadata": {},
   "source": [
    "## Type Alias (C++11)\n",
    "Type aliases help make typedefs more readable. Intstead of:\n",
    "\n",
    "```cpp\n",
    "typedef double distance_t\n",
    "```\n",
    "\n",
    "you can do\n",
    "\n",
    "```cpp\n",
    "using distance_t = double  // this is an overloaded use of `using` - unrelated to namespacing\n",
    "```"
   ]
  },
  {
   "cell_type": "markdown",
   "metadata": {},
   "source": [
    "## Structs\n",
    "An **aggregate data type** is a data type that groups multiple individual variables together. One of the simplest aggregate data types is the **struct**. A struct (short for structure) allows us to group variables of mixed data types together into a single unit.\n",
    "\n",
    "Struct definitions do not take any memory - you can simply put the definition in the header file and `#include` it anywhere. No need for forward declarations."
   ]
  },
  {
   "cell_type": "code",
   "execution_count": 6,
   "metadata": {},
   "outputs": [],
   "source": [
    "struct Particle\n",
    "{\n",
    "    float mass;\n",
    "    int charge;\n",
    "    bool spin;\n",
    "}"
   ]
  },
  {
   "cell_type": "code",
   "execution_count": 7,
   "metadata": {},
   "outputs": [],
   "source": [
    "Particle electron;\n",
    "electron.mass = 1.0;\n",
    "electron.charge = -1;\n",
    "electron.spin = 1;"
   ]
  },
  {
   "cell_type": "code",
   "execution_count": 8,
   "metadata": {},
   "outputs": [],
   "source": [
    "Particle proton{10.0, +1, 0};  // proton.spin=+1, etc."
   ]
  },
  {
   "cell_type": "code",
   "execution_count": 9,
   "metadata": {},
   "outputs": [],
   "source": [
    "Particle neutron;\n",
    "neutron = {10.0, 0, 0};  // C++11 "
   ]
  },
  {
   "cell_type": "markdown",
   "metadata": {},
   "source": [
    "### non-static member initialization (C++11/14}\n",
    "You can give non-static default members an initial value:"
   ]
  },
  {
   "cell_type": "code",
   "execution_count": 2,
   "metadata": {},
   "outputs": [],
   "source": [
    "struct Number\n",
    "{\n",
    "    int value = 0;\n",
    "}"
   ]
  },
  {
   "cell_type": "markdown",
   "metadata": {},
   "source": [
    "In C++11, you can't use the uniform-initialization syntax with members with intial values. You can in C++14."
   ]
  },
  {
   "cell_type": "code",
   "execution_count": 3,
   "metadata": {},
   "outputs": [
    {
     "name": "stdout",
     "output_type": "stream",
     "text": [
      "(int) 0\n"
     ]
    }
   ],
   "source": [
    "Number num;\n",
    "num.value"
   ]
  },
  {
   "cell_type": "code",
   "execution_count": 3,
   "metadata": {},
   "outputs": [
    {
     "name": "stdout",
     "output_type": "stream",
     "text": [
      "(int) 1\n"
     ]
    }
   ],
   "source": [
    "num.value"
   ]
  },
  {
   "cell_type": "markdown",
   "metadata": {},
   "source": [
    "### Nested struct"
   ]
  },
  {
   "cell_type": "code",
   "execution_count": 10,
   "metadata": {},
   "outputs": [],
   "source": [
    "struct Employee\n",
    "{\n",
    "    short id;\n",
    "    int age;\n",
    "    float wage;\n",
    "};\n",
    " \n",
    "struct Company\n",
    "{\n",
    "    Employee CEO; // Employee is a struct within the Company struct\n",
    "    int numberOfEmployees;\n",
    "};\n",
    " \n",
    "Company myCompany = {{ 1, 42, 60000.0f }, 5 };"
   ]
  },
  {
   "cell_type": "code",
   "execution_count": null,
   "metadata": {},
   "outputs": [],
   "source": []
  }
 ],
 "metadata": {
  "kernelspec": {
   "display_name": "xeus C++14",
   "language": "",
   "name": "xeus-cling-cpp14"
  },
  "language_info": {
   "codemirror_mode": "text/x-c++src",
   "file_extension": ".cpp",
   "mimetype": "text/x-c++src",
   "name": "c++",
   "version": ""
  }
 },
 "nbformat": 4,
 "nbformat_minor": 2
}
