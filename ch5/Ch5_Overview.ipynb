{
 "cells": [
  {
   "cell_type": "markdown",
   "metadata": {},
   "source": [
    "# Control Flow\n",
    "### Halt\n",
    "`exit` lives in `cstdlib`. When invoked as `exit(0)`, it will return 0 and then exit to the operating system.\n",
    "\n",
    "### Jumps\n",
    "`goto`, `break`, and `continue` are all jump keyword arguments.\n",
    "\n",
    "### Conditional branches\n",
    "`if`, `else`, and `switch` can route execution to different branches of code.\n",
    "\n",
    "### Loops\n",
    "`do`, `do while`, and `for` all invoke looping mechanisms. C++11 added `for each` as well."
   ]
  },
  {
   "cell_type": "markdown",
   "metadata": {},
   "source": [
    "## If Statements\n",
    "The syntax:\n",
    "```cpp\n",
    "if (cond)\n",
    "    stuff A\n",
    "else \n",
    "    stuff B\n",
    "```\n",
    "is implicitly using blocks under each condition:\n",
    "\n",
    "```cpp\n",
    "if (cond)\n",
    "{\n",
    "    stuff A\n",
    "}\n",
    "else \n",
    "{\n",
    "    stuff B\n",
    "}\n",
    "```\n",
    "\n",
    "This is important to understand. First of all, you must use blocks to permit multi-line sections of code under a branching statement. Second, it explains why the following code will not compile:\n",
    "\n",
    "```cpp\n",
    "if 1\n",
    "    int x = 1;\n",
    "else \n",
    "    int x = 2;\n",
    "\n",
    "x += 1;\n",
    "```\n",
    "Because the code following each condition falls in a block, any non-static variable created in that block will have block-scope. Thus `x` will not be defined at the `x += 1` statement!\n",
    "\n",
    "`;` can be used as a null statement - equivalent to `pass` in Python.\n",
    "\n",
    "```cpp\n",
    "int x{2};\n",
    "if 1\n",
    "    ;  // do nothing\n",
    "else\n",
    "    x += 2;\n",
    "```"
   ]
  },
  {
   "cell_type": "markdown",
   "metadata": {},
   "source": [
    "## Switch Statements\n",
    "\n",
    "```cpp\n",
    "switch(x)\n",
    "{\n",
    "    case 4:\n",
    "        // do something if x == 4\n",
    "        break\n",
    "    \n",
    "    case 5:\n",
    "        // do something if x == 5\n",
    "        break\n",
    "    \n",
    "    case y:\n",
    "        // do something if x == y\n",
    "        break\n",
    "    \n",
    "    // multiple case labels for one statement\n",
    "    case 6:\n",
    "    case 7:\n",
    "        // do somthing if x is 6 OR x is 7\n",
    "        break\n",
    "    \n",
    "    default:\n",
    "        // do something if none of the above cases are satisfied\n",
    "}\n",
    "```\n",
    "\n",
    "Without the `break` statements, execution will begin at whatever case is matched, and **all subsequent case-statements will be executed**. This is known as **fall-through**, and is rarely desired.\n",
    "\n",
    "```cpp\n",
    "int x{2};\n",
    "int y{0};\n",
    "switch(x)\n",
    "{\n",
    " case 1:\n",
    "     y += 1;\n",
    " case 2: // match -> begin execution\n",
    "     y += 2;\n",
    " case 3:\n",
    "     y += 3;  // this is executed as well\n",
    "}\n",
    " \n",
    "// y will be 5 here\n",
    "```\n",
    "\n",
    "The strange behavior of switch statements continues further - multiple lines of code within a case are specified **without** defining a block with curly-brcackets. Also, variable declaration and assignment are permitted withing a case statement, but variable initialization is not... so gross:\n",
    "\n",
    "```cpp\n",
    "switch (x)\n",
    "{\n",
    "    case 1:\n",
    "        int y; // okay, declaration is allowed\n",
    "        y = 4; // okay, this is an assignment\n",
    "        break;\n",
    " \n",
    "    case 2:\n",
    "        y = 5; // okay, y was declared above, so we can use it here too\n",
    "        break;\n",
    " \n",
    "    case 3:\n",
    "        int z = 4; // illegal, you can't initialize new variables in the case statements\n",
    "        break;\n",
    " \n",
    "    default:\n",
    "        std::cout << \"default case\" << std::endl;\n",
    "        break;\n",
    "}\n",
    "```"
   ]
  },
  {
   "cell_type": "markdown",
   "metadata": {},
   "source": [
    "## goto Statements (Don't Use Them!)\n",
    "The **`goto` statement** is a control flow statement that tells the CPU to jump to a nother spot in your code, as identified by a **statment label**. \n",
    "\n",
    "```cpp\n",
    "#include <iostream>\n",
    "#include <cmath> // for sqrt() function\n",
    " \n",
    "int main()\n",
    "{\n",
    "    double x;\n",
    "tryAgain: // this is a statement label\n",
    "    std::cout << \"Enter a non-negative number\"; \n",
    "    std::cin >> x;\n",
    " \n",
    "    if (x < 0.0)\n",
    "        goto tryAgain; // this is the goto statement\n",
    " \n",
    "    std::cout << \"The sqrt of \" << x << \" is \" << sqrt(x) << std::endl;\n",
    "    return 0;\n",
    "}\n",
    "```"
   ]
  },
  {
   "cell_type": "markdown",
   "metadata": {},
   "source": [
    "## While Loops\n",
    "These behave like in Python."
   ]
  },
  {
   "cell_type": "code",
   "execution_count": 4,
   "metadata": {},
   "outputs": [],
   "source": [
    "int count{0};\n",
    "int accum{0};\n",
    "while (count < 10)\n",
    "{\n",
    "    count++;\n",
    "    accum += count;\n",
    "    // any variable created in this block will be destroyed upon block-exit\n",
    "}\n",
    "\n",
    "// count is 10\n",
    "// accum is 55"
   ]
  },
  {
   "cell_type": "markdown",
   "metadata": {},
   "source": [
    "## Do while statements\n",
    "```\n",
    "do\n",
    "{\n",
    "    statement;\n",
    "}\n",
    "while (condition);\n",
    "```\n",
    "\n",
    "Do while statments are useful for ensuring that a block of code is executed at least once, wherease a statement within a while loop may be executed 0 times, if the condition is never met.\n",
    "\n",
    "Even though the do block is always executed, variable declarations must be made **outside** of the do block, otherwise it will be destroyed upon leaving the do block and will not be available to the while conditional."
   ]
  },
  {
   "cell_type": "code",
   "execution_count": 1,
   "metadata": {},
   "outputs": [
    {
     "name": "stdout",
     "output_type": "stream",
     "text": [
      "x: 5\n"
     ]
    }
   ],
   "source": [
    "#include <iostream>\n",
    "\n",
    "int x{4};\n",
    "\n",
    "do\n",
    "{\n",
    "    x++;\n",
    "    std::cout << \"x: \" << x << std::endl;\n",
    "}\n",
    "while (x < 3)"
   ]
  },
  {
   "cell_type": "markdown",
   "metadata": {},
   "source": [
    "## For statements\n",
    "```\n",
    "for (init-statement; condition-expression; end-expression)\n",
    "    statement;\n",
    "```\n",
    "\n",
    "A for statement is evaluated in three parts:\n",
    "- 1 The init statment is evaluated, only once, upon the the first execution of the loop.\n",
    "- 2 The condition expression is evaluated; if it returns false, the loop terminates immediately, otherwise the underlying statement is executed.\n",
    "- 3 Once the block statement is executed, the end-statement is executed - this usually is used to increment a variable."
   ]
  },
  {
   "cell_type": "code",
   "execution_count": 2,
   "metadata": {},
   "outputs": [
    {
     "name": "stdout",
     "output_type": "stream",
     "text": [
      "x: 0\n",
      "x: 1\n",
      "x: 2\n",
      "x: 3\n",
      "x: 4\n",
      "x: 5\n",
      "x: 6\n",
      "x: 7\n",
      "x: 8\n",
      "x: 9\n"
     ]
    }
   ],
   "source": [
    "#include <iostream>\n",
    "for (int x{0}; x < 10; x++)\n",
    "{\n",
    "    std::cout << \"x: \" << x << \"\\n\";\n",
    "// `x` is destroyed upon leaving this block, unless you are using an old compiler\n",
    "}\n"
   ]
  },
  {
   "cell_type": "markdown",
   "metadata": {},
   "source": [
    "You can omit any or all of the for-statement expressions. Omitting all of them is equivalent to a `while (true)` statement. You can also cram multiple expressions within these statements:"
   ]
  },
  {
   "cell_type": "code",
   "execution_count": 3,
   "metadata": {},
   "outputs": [
    {
     "name": "stdout",
     "output_type": "stream",
     "text": [
      "x: 0; y: 0\n",
      "x: 1; y: -1\n",
      "x: 2; y: -2\n",
      "x: 3; y: -3\n",
      "x: 4; y: -4\n",
      "x: 5; y: -5\n",
      "x: 6; y: -6\n",
      "x: 7; y: -7\n",
      "x: 8; y: -8\n",
      "x: 9; y: -9\n"
     ]
    }
   ],
   "source": [
    "#include <iostream>\n",
    "for (int x{0}, y{0}; x < 10; x++, y--)\n",
    "{\n",
    "    std::cout << \"x: \" << x << \"; y: \" << y << \"\\n\";\n",
    "}"
   ]
  },
  {
   "cell_type": "markdown",
   "metadata": {},
   "source": [
    "## Break and continue\n",
    "Behave like in Python"
   ]
  }
 ],
 "metadata": {
  "kernelspec": {
   "display_name": "xeus C++14",
   "language": "",
   "name": "xeus-cling-cpp14"
  }
 },
 "nbformat": 4,
 "nbformat_minor": 2
}
